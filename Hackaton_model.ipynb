{
  "nbformat": 4,
  "nbformat_minor": 0,
  "metadata": {
    "colab": {
      "name": "Copy of DHH 2020 - Regression.ipynb",
      "provenance": [],
      "collapsed_sections": [],
      "machine_shape": "hm"
    },
    "kernelspec": {
      "name": "python3",
      "display_name": "Python 3"
    }
  },
  "cells": [
    {
      "cell_type": "code",
      "metadata": {
        "id": "FW5uzxUCJPa4",
        "outputId": "baa8d057-3aa0-4511-c2b6-7b0662aa455f",
        "colab": {
          "base_uri": "https://localhost:8080/",
          "height": 72
        }
      },
      "source": [
        "import numpy as np \n",
        "import pandas as pd\n",
        "import matplotlib.pyplot as plt \n",
        "import seaborn as sns\n",
        "import warnings\n",
        "warnings.filterwarnings(\"ignore\")\n",
        "from pylab import rcParams\n",
        "%matplotlib inline\n",
        "from google.colab import drive\n",
        "import copy \n",
        "\n",
        "drive.flush_and_unmount()\n",
        "drive.mount('/content/drive', force_remount=True)"
      ],
      "execution_count": null,
      "outputs": [
        {
          "output_type": "stream",
          "text": [
            "/usr/local/lib/python3.6/dist-packages/statsmodels/tools/_testing.py:19: FutureWarning: pandas.util.testing is deprecated. Use the functions in the public API at pandas.testing instead.\n",
            "  import pandas.util.testing as tm\n"
          ],
          "name": "stderr"
        },
        {
          "output_type": "stream",
          "text": [
            "Mounted at /content/drive\n"
          ],
          "name": "stdout"
        }
      ]
    },
    {
      "cell_type": "code",
      "metadata": {
        "id": "YH5uoazkJ7Zr"
      },
      "source": [
        "trainA = pd.read_csv(\"drive/My Drive/Colab Notebooks/Data/trainA.csv\")\n",
        "trainX = pd.read_csv(\"drive/My Drive/Colab Notebooks/Data/trainX.csv\")\n",
        "trainY = pd.read_csv(\"drive/My Drive/Colab Notebooks/Data/trainY.csv\")\n",
        "testX = pd.read_csv(\"drive/My Drive/Colab Notebooks/Data/testX.csv\")\n",
        "testX = testX.drop(['Unnamed: 0'], axis=1)\n",
        "\n",
        "testX_open_answer = pd.read_csv(\"drive/My Drive/Colab Notebooks/Data/testX_open_answer.csv\")\n",
        "testX_open_answer2 = pd.read_csv(\"drive/My Drive/Colab Notebooks/Data/testX_open_answer2.csv\")\n",
        "testX_open_answer5 = pd.read_csv(\"drive/My Drive/Colab Notebooks/Data/testX_open_answer5.csv\")\n",
        "\n",
        "df = trainX.merge(trainY).merge(trainA)\n",
        "df = df.drop(['Unnamed: 0','event'], axis=1)"
      ],
      "execution_count": null,
      "outputs": []
    },
    {
      "cell_type": "markdown",
      "metadata": {
        "id": "R7CbBjTptKk-"
      },
      "source": [
        "## Exploratory Data Analysis"
      ]
    },
    {
      "cell_type": "code",
      "metadata": {
        "id": "lje3RDt5gh3K",
        "outputId": "38de1c4e-11f2-4290-9dab-20d20f2e811c",
        "colab": {
          "base_uri": "https://localhost:8080/"
        }
      },
      "source": [
        "print(df.describe().T, \"\\n\")\n",
        "print(len(df), \"\\n\")"
      ],
      "execution_count": null,
      "outputs": [
        {
          "output_type": "stream",
          "text": [
            "        count      mean        std   min     25%    50%     75%     max\n",
            "X0      666.0  0.496562   0.296329  0.00  0.2300  0.490  0.7600    1.00\n",
            "X1      666.0  0.490165   0.287377  0.00  0.2200  0.495  0.7300    1.00\n",
            "X2      666.0  0.492192   0.291935  0.00  0.2400  0.490  0.7500    1.00\n",
            "X3      666.0  0.503393   0.296364  0.00  0.2300  0.505  0.7600    0.99\n",
            "X4      666.0  0.524084   0.292983  0.00  0.2725  0.525  0.7900    1.00\n",
            "X5      666.0  0.511907   0.282038  0.01  0.2700  0.510  0.7500    1.00\n",
            "X6      666.0  0.500931   0.286806  0.00  0.2700  0.475  0.7400    1.00\n",
            "X7      666.0  0.503529   0.291646  0.00  0.2600  0.490  0.7700    1.00\n",
            "X8      666.0  0.485195   0.292637  0.00  0.2300  0.470  0.7400    1.00\n",
            "X9      666.0  0.513919   0.289463  0.00  0.2600  0.520  0.7800    1.00\n",
            "X10     666.0  0.493423   0.291362  0.00  0.2400  0.495  0.7600    1.00\n",
            "X11     666.0  0.511396   0.285704  0.00  0.2700  0.520  0.7500    1.00\n",
            "X12     666.0  0.493664   0.289195  0.00  0.2400  0.490  0.7400    1.00\n",
            "X13     666.0  0.491862   0.294002  0.00  0.2300  0.490  0.7500    1.00\n",
            "X14     666.0  0.518303   0.286648  0.00  0.2800  0.515  0.7575    1.00\n",
            "X15     666.0  0.504054   0.292797  0.00  0.2500  0.500  0.7675    1.00\n",
            "X16     666.0  0.511637   0.290092  0.00  0.2600  0.505  0.7700    1.00\n",
            "time    666.0  4.867553  18.438362  0.00  0.2700  0.980  3.0975  323.24\n",
            "Action  666.0  0.400901   0.490449  0.00  0.0000  0.000  1.0000    1.00 \n",
            "\n",
            "666 \n",
            "\n"
          ],
          "name": "stdout"
        }
      ]
    },
    {
      "cell_type": "markdown",
      "metadata": {
        "id": "DJtD6a6LMmgs"
      },
      "source": [
        "## Clustering"
      ]
    },
    {
      "cell_type": "markdown",
      "metadata": {
        "id": "mpA1uOfJqMUu"
      },
      "source": [
        "### Determine the size of K: Using Elbow & Silhouette"
      ]
    },
    {
      "cell_type": "code",
      "metadata": {
        "id": "cDHzjiou9WTT",
        "outputId": "29d08d40-4710-45d9-d847-883a30c0fd91",
        "colab": {
          "base_uri": "https://localhost:8080/",
          "height": 281
        }
      },
      "source": [
        "from sklearn.cluster import KMeans\n",
        "from sklearn.metrics import silhouette_score\n",
        "import operator\n",
        "\n",
        "sse = {}\n",
        "sil = {}\n",
        "\n",
        "for k in range(2, 150):\n",
        "    kmeans = KMeans(n_clusters=k, max_iter=1000, random_state=0).fit(df.iloc[:,:-2])\n",
        "    sse[k] = kmeans.inertia_ \n",
        "    sil[k] = silhouette_score(df.iloc[:,:-2], kmeans.labels_)\n",
        "\n",
        "fig, axs = plt.subplots(1, 2)\n",
        "axs[0].plot(list(sse.keys()), list(sse.values()))\n",
        "axs[0].set_title('Elbow Method')\n",
        "axs[1].plot(list(sil.keys()), list(sil.values()))\n",
        "axs[1].set_title('Silhouette')\n",
        "plt.show()\n",
        "\n",
        "#sorted(sil.items(),key=operator.itemgetter(1),reverse=True)"
      ],
      "execution_count": null,
      "outputs": [
        {
          "output_type": "display_data",
          "data": {
            "image/png": "[encoded data removed]",
            "text/plain": [
              "<Figure size 432x288 with 2 Axes>"
            ]
          },
          "metadata": {
            "tags": [],
            "needs_background": "light"
          }
        }
      ]
    },
    {
      "cell_type": "markdown",
      "metadata": {
        "id": "8JEvsC62CvXz"
      },
      "source": [
        "### Group-by Mean and Count"
      ]
    },
    {
      "cell_type": "code",
      "metadata": {
        "id": "PIJOQ1lLKKhu",
        "outputId": "ae973f5f-3d83-41f2-c7aa-1ea9894e5671",
        "colab": {
          "base_uri": "https://localhost:8080/",
          "height": 1000
        }
      },
      "source": [
        "from sklearn.cluster import KMeans\n",
        "\n",
        "num_cluster = 50\n",
        "kmeans = KMeans(n_clusters=num_cluster, max_iter=1000, random_state=0).fit(df.iloc[:,:-2])\n",
        "\n",
        "df['cluster'] = kmeans.labels_\n",
        "\n",
        "print(df.groupby('cluster', as_index=False)['time'].agg(['mean', 'median', 'count']))\n",
        "print(df.groupby('cluster', as_index=False)['Action'].agg(['mean', 'count']))\n",
        "\n",
        "testX['cluster'] = kmeans.predict(testX.values.reshape(len(testX),17))"
      ],
      "execution_count": null,
      "outputs": [
        {
          "output_type": "stream",
          "text": [
            "              mean  median  count\n",
            "cluster                          \n",
            "0         1.704667   0.350     15\n",
            "1         2.750588   1.470     17\n",
            "2         0.857000   0.625     10\n",
            "3         2.668235   0.550     17\n",
            "4        54.446429  15.080     14\n",
            "5         1.031818   0.580     11\n",
            "6         3.500000   2.745     10\n",
            "7         1.228000   0.735     20\n",
            "8         0.601333   0.290     15\n",
            "9         0.278571   0.120      7\n",
            "10        4.613125   0.515     16\n",
            "11        6.480769   1.850     13\n",
            "12        3.910556   2.355     18\n",
            "13        1.808889   0.800      9\n",
            "14        0.369000   0.390     10\n",
            "15        1.413846   0.720     13\n",
            "16        0.672222   0.400      9\n",
            "17        0.180769   0.110     13\n",
            "18       26.876667   5.260      9\n",
            "19        1.340000   0.380      8\n",
            "20        4.632222   1.670      9\n",
            "21        1.331000   0.220     20\n",
            "22        3.386667   0.470     15\n",
            "23        2.771667   2.300     12\n",
            "24        2.174706   1.680     17\n",
            "25        4.809412   3.050     17\n",
            "26        4.271765   1.900     17\n",
            "27        3.534706   0.910     17\n",
            "28        2.563846   2.250     13\n",
            "29        0.133333   0.110      3\n",
            "30        0.373333   0.385     12\n",
            "31        0.724706   0.260     17\n",
            "32        1.315000   0.710      8\n",
            "33        2.044615   0.980     13\n",
            "34       21.000000   8.080     18\n",
            "35        8.408889   2.100      9\n",
            "36        0.305556   0.230      9\n",
            "37        1.180909   0.690     11\n",
            "38        7.557857   2.250     14\n",
            "39        0.895000   0.315     12\n",
            "40       17.239167   5.985     12\n",
            "41        0.670667   0.200     15\n",
            "42        4.645000   3.750     10\n",
            "43        1.822500   1.500     16\n",
            "44        8.114737   4.850     19\n",
            "45        2.946154   1.200     13\n",
            "46        1.923500   0.930     20\n",
            "47        8.550714   3.985     14\n",
            "48        0.685789   0.320     19\n",
            "49        0.904545   0.160     11\n",
            "             mean  count\n",
            "cluster                 \n",
            "0        0.200000     15\n",
            "1        0.294118     17\n",
            "2        0.000000     10\n",
            "3        0.823529     17\n",
            "4        0.428571     14\n",
            "5        0.454545     11\n",
            "6        0.900000     10\n",
            "7        0.100000     20\n",
            "8        0.666667     15\n",
            "9        0.142857      7\n",
            "10       0.375000     16\n",
            "11       0.769231     13\n",
            "12       0.166667     18\n",
            "13       0.333333      9\n",
            "14       0.100000     10\n",
            "15       0.769231     13\n",
            "16       0.111111      9\n",
            "17       0.461538     13\n",
            "18       0.555556      9\n",
            "19       0.250000      8\n",
            "20       0.222222      9\n",
            "21       0.550000     20\n",
            "22       0.400000     15\n",
            "23       0.916667     12\n",
            "24       0.352941     17\n",
            "25       0.176471     17\n",
            "26       0.058824     17\n",
            "27       0.823529     17\n",
            "28       0.153846     13\n",
            "29       0.000000      3\n",
            "30       0.833333     12\n",
            "31       0.176471     17\n",
            "32       0.250000      8\n",
            "33       0.769231     13\n",
            "34       0.666667     18\n",
            "35       0.111111      9\n",
            "36       0.777778      9\n",
            "37       0.545455     11\n",
            "38       0.571429     14\n",
            "39       0.416667     12\n",
            "40       0.416667     12\n",
            "41       0.333333     15\n",
            "42       0.400000     10\n",
            "43       0.062500     16\n",
            "44       0.473684     19\n",
            "45       0.153846     13\n",
            "46       0.250000     20\n",
            "47       0.142857     14\n",
            "48       0.368421     19\n",
            "49       0.454545     11\n"
          ],
          "name": "stdout"
        }
      ]
    },
    {
      "cell_type": "markdown",
      "metadata": {
        "id": "hfFCzvo45QjN"
      },
      "source": [
        "## Naive Data Filter"
      ]
    },
    {
      "cell_type": "code",
      "metadata": {
        "id": "2mrHrpH0EWnS"
      },
      "source": [
        "trainA = pd.read_csv(\"drive/My Drive/Colab Notebooks/Data/trainA.csv\")\n",
        "trainX = pd.read_csv(\"drive/My Drive/Colab Notebooks/Data/trainX.csv\")\n",
        "trainY = pd.read_csv(\"drive/My Drive/Colab Notebooks/Data/trainY.csv\")\n",
        "testX = pd.read_csv(\"drive/My Drive/Colab Notebooks/Data/testX.csv\")\n",
        "testX = testX.drop(['Unnamed: 0'], axis=1)\n",
        "\n",
        "testX_open_answer = pd.read_csv(\"drive/My Drive/Colab Notebooks/Data/testX_open_answer.csv\")\n",
        "testX_open_answer2 = pd.read_csv(\"drive/My Drive/Colab Notebooks/Data/testX_open_answer2.csv\")\n",
        "testX_open_answer5 = pd.read_csv(\"drive/My Drive/Colab Notebooks/Data/testX_open_answer5.csv\")\n",
        "\n",
        "df = trainX.merge(trainY).merge(trainA)\n",
        "df = df.drop(['Unnamed: 0','event'], axis=1)"
      ],
      "execution_count": null,
      "outputs": []
    },
    {
      "cell_type": "code",
      "metadata": {
        "id": "SqRtHGza5QID",
        "outputId": "fdae4125-9103-46c0-a4a8-50b18361f7af",
        "colab": {
          "base_uri": "https://localhost:8080/",
          "height": 35
        }
      },
      "source": [
        "survival_time_threshold = 0.24\n",
        "est_surv_time_increase = 10\n",
        "\n",
        "bad_treated = df[df['time']<survival_time_threshold]\n",
        "well_treated = df[df['time']>=survival_time_threshold]\n",
        "\n",
        "bad_treated['Action'] = np.where(bad_treated['Action'] == 0, 1, 0)\n",
        "#bad_treated['time'] += est_surv_time_increase\n",
        "\n",
        "df = pd.concat([bad_treated, well_treated])\n",
        "df.shape"
      ],
      "execution_count": null,
      "outputs": [
        {
          "output_type": "execute_result",
          "data": {
            "text/plain": [
              "(666, 19)"
            ]
          },
          "metadata": {
            "tags": []
          },
          "execution_count": 416
        }
      ]
    },
    {
      "cell_type": "markdown",
      "metadata": {
        "id": "xZFPDdtP2WnQ"
      },
      "source": [
        "## X-y Setting"
      ]
    },
    {
      "cell_type": "code",
      "metadata": {
        "id": "s0hTVRQakvRU",
        "outputId": "04b4b485-e797-4c0d-abdf-86411736868f",
        "colab": {
          "base_uri": "https://localhost:8080/",
          "height": 35
        }
      },
      "source": [
        "from sklearn.model_selection import train_test_split\n",
        "from sklearn.preprocessing import StandardScaler\n",
        "from sklearn.linear_model import LinearRegression\n",
        "\n",
        "X = pd.concat([df.iloc[:,:-2] , df.iloc[:,-1]], axis=1)\n",
        "y = df.iloc[:,-2]\n",
        "\n",
        "#X_train, X_test, y_train, y_test = train_test_split(X, y, test_size=0.2, random_state=0)\n",
        "#display(X_train)"
      ],
      "execution_count": null,
      "outputs": [
        {
          "output_type": "stream",
          "text": [
            "0.13985602426556654\n"
          ],
          "name": "stdout"
        }
      ]
    },
    {
      "cell_type": "markdown",
      "metadata": {
        "id": "eVupO8ZctP7u"
      },
      "source": [
        "## Model Training"
      ]
    },
    {
      "cell_type": "code",
      "metadata": {
        "id": "k9DWJasNn6sh",
        "outputId": "bf4c2aee-e952-443b-cc8a-b367ba76bab2",
        "colab": {
          "base_uri": "https://localhost:8080/",
          "height": 108
        }
      },
      "source": [
        "from sklearn import linear_model\n",
        "from sklearn import svm\n",
        "from sklearn.metrics import r2_score\n",
        "from sklearn.metrics import mean_squared_error\n",
        "from sklearn.ensemble import RandomForestRegressor\n",
        "from sklearn.ensemble import AdaBoostRegressor\n",
        "from sklearn.ensemble import GradientBoostingRegressor\n",
        "from sklearn.linear_model import RidgeCV\n",
        "\n",
        "from sklearn.svm import LinearSVR\n",
        "from sklearn.ensemble import RandomForestRegressor\n",
        "from sklearn.ensemble import StackingRegressor\n",
        "from sklearn.neighbors import KNeighborsRegressor\n",
        "from sklearn.pipeline import make_pipeline\n",
        "from sklearn.preprocessing import PolynomialFeatures\n",
        "from sklearn.linear_model import LinearRegression\n",
        "from sklearn.preprocessing import MinMaxScaler\n",
        "from sklearn.neural_network import MLPRegressor\n",
        "from sklearn.neural_network import BernoulliRBM\n",
        "from sklearn.linear_model import LogisticRegression\n",
        "from sklearn.ensemble import BaggingRegressor\n",
        "from sklearn.ensemble import AdaBoostRegressor\n",
        "from sklearn.naive_bayes import GaussianNB\n",
        "\n",
        "testX_0 = copy.deepcopy(testX)\n",
        "testX_1 = copy.deepcopy(testX)\n",
        "testX_0['Action'] = 0\n",
        "testX_1['Action'] = 1\n",
        "scaler0 = MinMaxScaler(feature_range=(0,1000))\n",
        "scaler1 = MinMaxScaler(feature_range=(0,1000))\n",
        "\n",
        "answer = testX_open_answer5['action'].to_list()\n",
        "#answer = testX_open_answer2['action'].to_list()\n",
        "\n",
        "kernel_svr = 'poly'\n",
        "degree_svr = 2\n",
        "\n",
        "classifiers = [\n",
        "    #KNeighborsRegressor(n_neighbors=30)      ,\n",
        "    #LinearRegression(),\n",
        "    #BaggingRegressor(base_estimator=svm.SVR(kernel=\"poly\", degree=degree_svr, gamma=\"scale\", C=22), n_estimators=100, random_state=0)\n",
        "    #MLPRegressor(\n",
        "    #    random_state=1, hidden_layer_sizes=(3,3) , activation='relu', max_iter=500\n",
        "    #    ),\n",
        "    #RandomForestRegressor(),\n",
        "    #GradientBoostingRegressor(),\n",
        "    #svm.SVR(kernel=kernel_svr, degree=degree_svr, gamma=\"scale\", C=50),\n",
        "\n",
        "    svm.SVR(kernel=kernel_svr, degree=degree_svr, gamma=\"scale\", C=0.001),svm.SVR(kernel=kernel_svr, degree=degree_svr, gamma=\"scale\", C=0.01),svm.SVR(kernel=kernel_svr, degree=degree_svr, gamma=\"scale\", C=0.1),svm.SVR(kernel=kernel_svr, degree=degree_svr, gamma=\"scale\", C=1),svm.SVR(kernel=kernel_svr, degree=degree_svr, gamma=\"scale\", C=2),svm.SVR(kernel=kernel_svr, degree=degree_svr, gamma=\"scale\", C=3),svm.SVR(kernel=kernel_svr, degree=degree_svr, gamma=\"scale\", C=4),svm.SVR(kernel=kernel_svr, degree=degree_svr, gamma=\"scale\", C=5),svm.SVR(kernel=kernel_svr, degree=degree_svr, gamma=\"scale\", C=6),svm.SVR(kernel=kernel_svr, degree=degree_svr, gamma=\"scale\", C=7),svm.SVR(kernel=kernel_svr, degree=degree_svr, gamma=\"scale\", C=8),svm.SVR(kernel=kernel_svr, degree=degree_svr, gamma=\"scale\", C=9),svm.SVR(kernel=kernel_svr, degree=degree_svr, gamma=\"scale\", C=10),svm.SVR(kernel=kernel_svr, degree=degree_svr, gamma=\"scale\", C=11),svm.SVR(kernel=kernel_svr, degree=degree_svr, gamma=\"scale\", C=12),svm.SVR(kernel=kernel_svr, degree=degree_svr, gamma=\"scale\", C=13),svm.SVR(kernel=kernel_svr, degree=degree_svr, gamma=\"scale\", C=14),svm.SVR(kernel=kernel_svr, degree=degree_svr, gamma=\"scale\", C=15),svm.SVR(kernel=kernel_svr, degree=degree_svr, gamma=\"scale\", C=16),svm.SVR(kernel=kernel_svr, degree=degree_svr, gamma=\"scale\", C=17),svm.SVR(kernel=kernel_svr, degree=degree_svr, gamma=\"scale\", C=18),svm.SVR(kernel=kernel_svr, degree=degree_svr, gamma=\"scale\", C=19),svm.SVR(kernel=kernel_svr, degree=degree_svr, gamma=\"scale\", C=20),svm.SVR(kernel=kernel_svr, degree=degree_svr, gamma=\"scale\", C=21),svm.SVR(kernel=kernel_svr, degree=degree_svr, gamma=\"scale\", C=22),svm.SVR(kernel=kernel_svr, degree=degree_svr, gamma=\"scale\", C=23),svm.SVR(kernel=kernel_svr, degree=degree_svr, gamma=\"scale\", C=24),svm.SVR(kernel=kernel_svr, degree=degree_svr, gamma=\"scale\", C=25),svm.SVR(kernel=kernel_svr, degree=degree_svr, gamma=\"scale\", C=26),svm.SVR(kernel=kernel_svr, degree=degree_svr, gamma=\"scale\", C=27),svm.SVR(kernel=kernel_svr, degree=degree_svr, gamma=\"scale\", C=28),svm.SVR(kernel=kernel_svr, degree=degree_svr, gamma=\"scale\", C=29),svm.SVR(kernel=kernel_svr, degree=degree_svr, gamma=\"scale\", C=30),svm.SVR(kernel=kernel_svr, degree=degree_svr, gamma=\"scale\", C=31),svm.SVR(kernel=kernel_svr, degree=degree_svr, gamma=\"scale\", C=32),svm.SVR(kernel=kernel_svr, degree=degree_svr, gamma=\"scale\", C=33),svm.SVR(kernel=kernel_svr, degree=degree_svr, gamma=\"scale\", C=34),svm.SVR(kernel=kernel_svr, degree=degree_svr, gamma=\"scale\", C=35),svm.SVR(kernel=kernel_svr, degree=degree_svr, gamma=\"scale\", C=36),svm.SVR(kernel=kernel_svr, degree=degree_svr, gamma=\"scale\", C=37),svm.SVR(kernel=kernel_svr, degree=degree_svr, gamma=\"scale\", C=38),svm.SVR(kernel=kernel_svr, degree=degree_svr, gamma=\"scale\", C=39),svm.SVR(kernel=kernel_svr, degree=degree_svr, gamma=\"scale\", C=40),svm.SVR(kernel=kernel_svr, degree=degree_svr, gamma=\"scale\", C=41),svm.SVR(kernel=kernel_svr, degree=degree_svr, gamma=\"scale\", C=42),svm.SVR(kernel=kernel_svr, degree=degree_svr, gamma=\"scale\", C=43),svm.SVR(kernel=kernel_svr, degree=degree_svr, gamma=\"scale\", C=44),svm.SVR(kernel=kernel_svr, degree=degree_svr, gamma=\"scale\", C=45),svm.SVR(kernel=kernel_svr, degree=degree_svr, gamma=\"scale\", C=46),svm.SVR(kernel=kernel_svr, degree=degree_svr, gamma=\"scale\", C=47),svm.SVR(kernel=kernel_svr, degree=degree_svr, gamma=\"scale\", C=48),svm.SVR(kernel=kernel_svr, degree=degree_svr, gamma=\"scale\", C=49),svm.SVR(kernel=kernel_svr, degree=degree_svr, gamma=\"scale\", C=50),\n",
        "  ]\n",
        "\n",
        "for item in classifiers:\n",
        "    clf = item\n",
        "    clf.fit(X, y)\n",
        "\n",
        "    testX_0['time'] = 0\n",
        "    testX_1['time'] = 0\n",
        "\n",
        "    testX_0['time'] = clf.predict(testX_0.iloc[:,:-1])\n",
        "    testX_1['time'] = clf.predict(testX_1.iloc[:,:-1])\n",
        "\n",
        "    final_testX_0 = np.asarray(testX_0['time'])\n",
        "    final_testX_1 = np.asarray(testX_1['time'])\n",
        "\n",
        "    scaler0.fit(final_testX_0.reshape(len(final_testX_0),1))\n",
        "    scaler1.fit(final_testX_1.reshape(len(final_testX_1),1))\n",
        "\n",
        "    final_testX_0 = scaler0.transform(final_testX_0.reshape(len(final_testX_0),1)).reshape(len(final_testX_0))\n",
        "    final_testX_1 = scaler1.transform(final_testX_1.reshape(len(final_testX_1),1)).reshape(len(final_testX_1))\n",
        "\n",
        "    final_list = []\n",
        "    final_outcome = list(map(max, final_testX_0, final_testX_1))\n",
        "    for elem in final_outcome:\n",
        "      if elem in final_testX_0:\n",
        "        final_list.append(0)\n",
        "      elif elem in final_testX_1:\n",
        "        final_list.append(1)\n",
        "\n",
        "    test_final_list = [e for i,e in enumerate(final_list) if i in testX_open_answer5['Index'].to_list()]\n",
        "    #test_final_list = [e for i,e in enumerate(final_list) if i in testX_open_answer2['Index'].to_list()]\n",
        "\n",
        "    acc = 0\n",
        "    for i in range(len(answer)):\n",
        "      if i>29:\n",
        "        if answer[i] == test_final_list[i]:  \n",
        "          acc += 1\n",
        "\n",
        "    acc_30 = 0\n",
        "    for i in range(len(answer[:30])):\n",
        "      if answer[i] == final_list[i]:  \n",
        "        acc_30 += 1\n",
        "\n",
        "    print(item, \"\\n\", \"ACC: \", acc/(len(answer)-30), \"\\n\", \"ACC_30: \", acc_30/len(answer[:30]), \"\\n\")\n"
      ],
      "execution_count": null,
      "outputs": [
        {
          "output_type": "stream",
          "text": [
            "SVR(C=50, cache_size=200, coef0=0.0, degree=2, epsilon=0.1, gamma='scale',\n",
            "    kernel='poly', max_iter=-1, shrinking=True, tol=0.001, verbose=False) \n",
            " ACC:  0.9518716577540107 \n",
            " ACC_30:  0.9 \n",
            "\n"
          ],
          "name": "stdout"
        }
      ]
    },
    {
      "cell_type": "code",
      "metadata": {
        "id": "jvZAupykj2jY",
        "outputId": "2d4a6ccb-7997-40ed-9c1e-cf385ee382b7",
        "colab": {
          "base_uri": "https://localhost:8080/",
          "height": 272
        }
      },
      "source": [
        "print(final_testX_0[:30])\n",
        "print(final_testX_1[:30])\n",
        "print(test_final_list[:30])\n",
        "print(answer[:30])"
      ],
      "execution_count": null,
      "outputs": [
        {
          "output_type": "stream",
          "text": [
            "[144.41036666 161.01645907 368.5201721  166.91385768 116.9370242\n",
            " 214.10265383 151.30573343 233.37718696 108.10657535 483.28799241\n",
            " 572.72774083 431.7610161  130.09446148 212.71734921 213.76463935\n",
            " 643.17200376 176.38687968 474.07605915 149.88996641 306.58778782\n",
            " 100.11228958 147.09945282 147.34002727 818.3017435  156.33291752\n",
            " 256.41711602 213.57783988 359.39341744 199.29978055 269.24142869]\n",
            "[192.48380415 187.6602475  470.12900853 178.0442351  217.42158751\n",
            " 189.25429935  63.18053941 137.4848333   85.7406477  598.94371842\n",
            " 639.53030314 406.40311131 119.03206164 160.20415823 196.13472297\n",
            " 623.97867013 215.54199206 488.08358477 176.36452425 157.2826339\n",
            " 155.50013367 143.67816317  63.74026897 791.44698136 136.98910338\n",
            " 200.77501725 175.10012906 428.15792754 279.67762185 248.16224803]\n",
            "[1, 1, 1, 1, 1, 0, 0, 0, 0, 1, 1, 0, 0, 0, 0, 0, 1, 1, 1, 0, 1, 0, 0, 0, 0, 0, 0, 1, 1, 0]\n",
            "[1, 1, 1, 1, 1, 0, 0, 0, 0, 1, 1, 0, 1, 0, 0, 1, 1, 1, 1, 0, 1, 0, 0, 0, 1, 0, 0, 1, 1, 0]\n"
          ],
          "name": "stdout"
        }
      ]
    },
    {
      "cell_type": "markdown",
      "metadata": {
        "id": "TpaZjeJ7NASR"
      },
      "source": [
        "## Export"
      ]
    },
    {
      "cell_type": "code",
      "metadata": {
        "id": "Sf-fzmgzNoTd",
        "outputId": "a8c7b4c5-1980-4269-b41d-b47d1a7893c0",
        "colab": {
          "base_uri": "https://localhost:8080/",
          "height": 407
        }
      },
      "source": [
        "final = pd.DataFrame({'action':final_list})\n",
        "final['Title'] = final.index\n",
        "final.columns = ['action', 'Title']\n",
        "final = final[['Title','action']]\n",
        "final"
      ],
      "execution_count": null,
      "outputs": [
        {
          "output_type": "execute_result",
          "data": {
            "text/html": [
              "<div>\n",
              "<style scoped>\n",
              "    .dataframe tbody tr th:only-of-type {\n",
              "        vertical-align: middle;\n",
              "    }\n",
              "\n",
              "    .dataframe tbody tr th {\n",
              "        vertical-align: top;\n",
              "    }\n",
              "\n",
              "    .dataframe thead th {\n",
              "        text-align: right;\n",
              "    }\n",
              "</style>\n",
              "<table border=\"1\" class=\"dataframe\">\n",
              "  <thead>\n",
              "    <tr style=\"text-align: right;\">\n",
              "      <th></th>\n",
              "      <th>Title</th>\n",
              "      <th>action</th>\n",
              "    </tr>\n",
              "  </thead>\n",
              "  <tbody>\n",
              "    <tr>\n",
              "      <th>0</th>\n",
              "      <td>0</td>\n",
              "      <td>1</td>\n",
              "    </tr>\n",
              "    <tr>\n",
              "      <th>1</th>\n",
              "      <td>1</td>\n",
              "      <td>1</td>\n",
              "    </tr>\n",
              "    <tr>\n",
              "      <th>2</th>\n",
              "      <td>2</td>\n",
              "      <td>1</td>\n",
              "    </tr>\n",
              "    <tr>\n",
              "      <th>3</th>\n",
              "      <td>3</td>\n",
              "      <td>1</td>\n",
              "    </tr>\n",
              "    <tr>\n",
              "      <th>4</th>\n",
              "      <td>4</td>\n",
              "      <td>1</td>\n",
              "    </tr>\n",
              "    <tr>\n",
              "      <th>...</th>\n",
              "      <td>...</td>\n",
              "      <td>...</td>\n",
              "    </tr>\n",
              "    <tr>\n",
              "      <th>281</th>\n",
              "      <td>281</td>\n",
              "      <td>0</td>\n",
              "    </tr>\n",
              "    <tr>\n",
              "      <th>282</th>\n",
              "      <td>282</td>\n",
              "      <td>1</td>\n",
              "    </tr>\n",
              "    <tr>\n",
              "      <th>283</th>\n",
              "      <td>283</td>\n",
              "      <td>1</td>\n",
              "    </tr>\n",
              "    <tr>\n",
              "      <th>284</th>\n",
              "      <td>284</td>\n",
              "      <td>0</td>\n",
              "    </tr>\n",
              "    <tr>\n",
              "      <th>285</th>\n",
              "      <td>285</td>\n",
              "      <td>0</td>\n",
              "    </tr>\n",
              "  </tbody>\n",
              "</table>\n",
              "<p>286 rows × 2 columns</p>\n",
              "</div>"
            ],
            "text/plain": [
              "     Title  action\n",
              "0        0       1\n",
              "1        1       1\n",
              "2        2       1\n",
              "3        3       1\n",
              "4        4       1\n",
              "..     ...     ...\n",
              "281    281       0\n",
              "282    282       1\n",
              "283    283       1\n",
              "284    284       0\n",
              "285    285       0\n",
              "\n",
              "[286 rows x 2 columns]"
            ]
          },
          "metadata": {
            "tags": []
          },
          "execution_count": 421
        }
      ]
    },
    {
      "cell_type": "code",
      "metadata": {
        "id": "lW2eyfC-m7w0"
      },
      "source": [
        "final.to_csv('drive/My Drive/dhh_2020_083120_5.csv', index=False)"
      ],
      "execution_count": null,
      "outputs": []
    }
  ]
}